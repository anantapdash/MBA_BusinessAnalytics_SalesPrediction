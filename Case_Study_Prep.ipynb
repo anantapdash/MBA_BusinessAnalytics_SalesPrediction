{
 "cells": [
  {
   "cell_type": "code",
   "execution_count": null,
   "id": "71a1579b",
   "metadata": {},
   "outputs": [],
   "source": [
    "import pandas as pd\n",
    "from sklearn.tree import DecisionTreeClassifier , plot_tree\n",
    "from matplotlib import pyplot as plt\n",
    "from sklearn.metrics import confusion_matrix, ConfusionMatrixDisplay, accuracy_score , precision_score , recall_score\n",
    "\n",
    "\n",
    "tree = DecisionTreeClassifier(max_depth=4)\n",
    "\n",
    "tree.fit(X = transactions[features], y = transactions['late'])\n",
    "\n",
    "plt.figure(figsize=(25,20))\n",
    "plot_tree(tree, feature_names=features, class_names=['on time','late'], filled=True)\n",
    "plt.tight_layout\n",
    "plt.show()\n",
    "\n",
    "\n",
    "y_pred = tree.predict(transactions[features])\n",
    "y_true = transactions['late']\n",
    "cm = confusion_matrix(y_true, y_pred)\n",
    "cm_transposed = cm.T\n",
    "\n",
    "accuracy_score(y_true = y_true , y_pred = y_pred)\n",
    "\n",
    "\n",
    "disp = ConfusionMatrixDisplay(confusion_matrix=cm_transposed, \n",
    "                             display_labels=['on time', 'late'])\n",
    "\n",
    "# Create a figure and plot\n",
    "fig, ax = plt.subplots(figsize=(8, 6))\n",
    "disp.plot(ax=ax, cmap='Blues')\n",
    "plt.xlabel('True label')  # This will now be on the x-axis\n",
    "plt.ylabel('Predicted label')  # This will now be on the y-axis\n",
    "plt.title('Confusion Matrix for Procurement Delivery Prediction (Axes Inverted)')\n",
    "plt.savefig('classword_confusion_matrix.png',dpi = 300)\n",
    "plt.show()"
   ]
  }
 ],
 "metadata": {
  "kernelspec": {
   "display_name": ".venv",
   "language": "python",
   "name": "python3"
  },
  "language_info": {
   "name": "python",
   "version": "3.13.5"
  }
 },
 "nbformat": 4,
 "nbformat_minor": 5
}
